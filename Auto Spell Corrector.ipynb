{
 "cells": [
  {
   "cell_type": "markdown",
   "id": "1c3d27c3",
   "metadata": {},
   "source": [
    "Misspelled word : the word not found in the corpus\n",
    "\n",
    "1. Perform n-edit distance and find the string/s.\n",
    "2. Collect the word/s and their probabilities.\n",
    "3. Filter the words in sorted order of probablities.\n",
    "4. display the word.\n",
    "\n",
    "N-edit Distance operation\n",
    "\n",
    "1. INSERT Letter (a-z)\n",
    "2. DELETE one letter by one from the word\n",
    "3. REPLACE all the letters of the word with a-z one at a time\n",
    "4. SWAP each letter one by one.\n",
    "\n",
    "it can be Perfomred as many times fro better result. Here Repeated 2times."
   ]
  },
  {
   "cell_type": "code",
   "execution_count": 5,
   "id": "bb9f2d7d",
   "metadata": {},
   "outputs": [],
   "source": [
    "from collections import Counter\n",
    "import numpy as np\n",
    "import string\n",
    "import re"
   ]
  },
  {
   "cell_type": "code",
   "execution_count": 6,
   "id": "9cef91b3",
   "metadata": {},
   "outputs": [],
   "source": [
    "with open('TrainText.txt', 'r', encoding='utf8') as text:\n",
    "    lines = text.readlines()\n",
    "    words = []\n",
    "    for line in lines:\n",
    "        words += re.findall(r'\\w+', line.lower())\n",
    "\n",
    "vocab = set(words)"
   ]
  },
  {
   "cell_type": "code",
   "execution_count": 7,
   "id": "8bef3f21",
   "metadata": {},
   "outputs": [
    {
     "name": "stdout",
     "output_type": "stream",
     "text": [
      "There are 12235 Lines\n",
      "There are 109031 Words\n",
      "There are 8188 Unique Words\n"
     ]
    }
   ],
   "source": [
    "print(f\"There are {len(lines)} Lines\")\n",
    "print(f\"There are {len(words)} Words\")\n",
    "print(f\"There are {len(vocab)} Unique Words\")"
   ]
  },
  {
   "cell_type": "code",
   "execution_count": 39,
   "id": "a4ac39d9",
   "metadata": {},
   "outputs": [],
   "source": [
    "# print(Counter(words))"
   ]
  },
  {
   "cell_type": "code",
   "execution_count": 41,
   "id": "4cdfebda",
   "metadata": {},
   "outputs": [],
   "source": [
    "def count_words (word):\n",
    "    return Counter(words)[word]\n",
    "\n",
    "def word_probab(word):\n",
    "    return count_words(word)/len(words)"
   ]
  },
  {
   "cell_type": "code",
   "execution_count": 36,
   "id": "ebf4c9bf",
   "metadata": {},
   "outputs": [
    {
     "name": "stdout",
     "output_type": "stream",
     "text": [
      "47\n",
      "0.0004310700626427346\n"
     ]
    }
   ],
   "source": [
    "print(count_words('money'))\n",
    "print(word_probab('money'))"
   ]
  },
  {
   "cell_type": "code",
   "execution_count": 42,
   "id": "fabab81e",
   "metadata": {},
   "outputs": [],
   "source": [
    "def split(word):\n",
    "    return ([(word[:i], word[i:]) for i in range(len(word)+1)])\n",
    "\n",
    "def insert(word):\n",
    "    letter = string.ascii_lowercase    \n",
    "    return ([a+l+b for a,b in split(word) for l in letter])\n",
    "\n",
    "def delete(word):    \n",
    "    return([f + l[1:] for f,l in split(word) if l != ''])\n",
    "\n",
    "def replace(word):\n",
    "    letter = string.ascii_lowercase\n",
    "    return ([a + l + b[1:] for a,b in split(word) for l in letter])\n",
    "\n",
    "def swap(word):    \n",
    "    return([f + l[1] + l[0] + l[2:] for f,l in split(word) if len(l) > 1])"
   ]
  },
  {
   "cell_type": "code",
   "execution_count": 78,
   "id": "279f2dcf",
   "metadata": {},
   "outputs": [],
   "source": [
    "def edit1(word):\n",
    "    return set(insert(word) + delete(word) + replace(word) + swap(word))\n",
    "\n",
    "def edit2(word):\n",
    "    return set(e2 for e1 in edit1(word) for e2 in edit1(e1))\n",
    "\n",
    "def word_suggest(w):\n",
    "#     return [(i, word_probab(i)) for i in (edit2(w) or [w]) if i in vocab]\n",
    "    return([(i, word_probab(i)) for i in (edit1(w) or edit2(w) or [w]) if i in vocab])"
   ]
  },
  {
   "cell_type": "code",
   "execution_count": 79,
   "id": "465c914a",
   "metadata": {},
   "outputs": [],
   "source": [
    "def spell_check(word):\n",
    "    \n",
    "    suggestions = word_suggest(word)\n",
    "    probs = np.array([c[1] for c in suggestions])\n",
    "    \n",
    "    if(len(probs) > 0):\n",
    "        correct_spell = suggestions[np.argmax(probs)][0]\n",
    "        return (correct_spell)\n",
    "    \n",
    "    else:\n",
    "        return 'Word NOT Found'"
   ]
  },
  {
   "cell_type": "code",
   "execution_count": 83,
   "id": "17bbcc07",
   "metadata": {},
   "outputs": [
    {
     "name": "stdout",
     "output_type": "stream",
     "text": [
      "Enter a Word to get the suggested word:theftt\n",
      "The Suggested Word is: theft\n"
     ]
    }
   ],
   "source": [
    "wrd = input(\"Enter a Word to get the suggested word:\")\n",
    "\n",
    "print(f\"The Suggested Word is: {spell_check(wrd)}\")"
   ]
  }
 ],
 "metadata": {
  "kernelspec": {
   "display_name": "Python 3",
   "language": "python",
   "name": "python3"
  },
  "language_info": {
   "codemirror_mode": {
    "name": "ipython",
    "version": 3
   },
   "file_extension": ".py",
   "mimetype": "text/x-python",
   "name": "python",
   "nbconvert_exporter": "python",
   "pygments_lexer": "ipython3",
   "version": "3.9.3"
  }
 },
 "nbformat": 4,
 "nbformat_minor": 5
}
